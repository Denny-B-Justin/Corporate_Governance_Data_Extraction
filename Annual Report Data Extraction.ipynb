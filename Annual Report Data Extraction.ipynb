{
 "cells": [
  {
   "cell_type": "code",
   "execution_count": 1,
   "metadata": {},
   "outputs": [],
   "source": [
    "GOOGLE_API_KEY = \"<Insert API>\"  #insert API here\n",
    "\n""
   ]
  },
  {
   "cell_type": "code",
   "execution_count": 2,
   "metadata": {},
   "outputs": [],
   "source": [
    "import os\n",
    "import getpass\n",
    "\n",
    "os.environ['GOOGLE_API_KEY'] = GOOGLE_API_KEY"
   ]
  },
  {
   "cell_type": "markdown",
   "metadata": {},
   "source": [
    "### Initialize Model"
   ]
  },
  {
   "cell_type": "code",
   "execution_count": 3,
   "metadata": {},
   "outputs": [],
   "source": [
    "from langchain_google_genai import ChatGoogleGenerativeAI\n",
    "\n",
    "llm = ChatGoogleGenerativeAI(model=\"gemini-pro\")\n"
   ]
  },
  {
   "cell_type": "markdown",
   "metadata": {},
   "source": [
    "### Load\n",
    "\n",
    "#### Please change the name according to the pdf name"
   ]
  },
  {
   "cell_type": "code",
   "execution_count": 4,
   "metadata": {},
   "outputs": [],
   "source": [
    "from langchain_community.document_loaders import PyPDFLoader \n",
    "\n",
    "loader = PyPDFLoader('307_Altri_2019.pdf')\n",
    "docs = loader.load_and_split()"
   ]
  },
  {
   "cell_type": "code",
   "execution_count": 5,
   "metadata": {},
   "outputs": [
    {
     "data": {
      "text/html": [
       "<div>\n",
       "<style scoped>\n",
       "    .dataframe tbody tr th:only-of-type {\n",
       "        vertical-align: middle;\n",
       "    }\n",
       "\n",
       "    .dataframe tbody tr th {\n",
       "        vertical-align: top;\n",
       "    }\n",
       "\n",
       "    .dataframe thead th {\n",
       "        text-align: right;\n",
       "    }\n",
       "</style>\n",
       "<table border=\"1\" class=\"dataframe\">\n",
       "  <thead>\n",
       "    <tr style=\"text-align: right;\">\n",
       "      <th></th>\n",
       "      <th>text</th>\n",
       "    </tr>\n",
       "  </thead>\n",
       "  <tbody>\n",
       "    <tr>\n",
       "      <th>0</th>\n",
       "      <td>REPORT AND \\nACCOUNTS\\n2019</td>\n",
       "    </tr>\n",
       "    <tr>\n",
       "      <th>1</th>\n",
       "      <td>2/570 \\nReport and accounts 2019Table of conte...</td>\n",
       "    </tr>\n",
       "    <tr>\n",
       "      <th>2</th>\n",
       "      <td>3/570 \\nMANAGEMENT REPORT</td>\n",
       "    </tr>\n",
       "    <tr>\n",
       "      <th>3</th>\n",
       "      <td>4/570 \\nReport and accounts 2019Table of conte...</td>\n",
       "    </tr>\n",
       "    <tr>\n",
       "      <th>4</th>\n",
       "      <td>5/570 To the Shareholders\\nPursuant to the leg...</td>\n",
       "    </tr>\n",
       "    <tr>\n",
       "      <th>5</th>\n",
       "      <td>6/570 \\nReport and accounts 2019The forest is ...</td>\n",
       "    </tr>\n",
       "    <tr>\n",
       "      <th>6</th>\n",
       "      <td>7/570 • Wood self-sufficiency: Altri has under...</td>\n",
       "    </tr>\n",
       "    <tr>\n",
       "      <th>7</th>\n",
       "      <td>8/570 \\nReport and accounts 2019Macroeconomic ...</td>\n",
       "    </tr>\n",
       "    <tr>\n",
       "      <th>8</th>\n",
       "      <td>9/570 With regard to China, increasing trade t...</td>\n",
       "    </tr>\n",
       "    <tr>\n",
       "      <th>9</th>\n",
       "      <td>10/570 \\nReport and accounts 2019(Note: PSI 20...</td>\n",
       "    </tr>\n",
       "  </tbody>\n",
       "</table>\n",
       "</div>"
      ],
      "text/plain": [
       "                                                text\n",
       "0                        REPORT AND \\nACCOUNTS\\n2019\n",
       "1  2/570 \\nReport and accounts 2019Table of conte...\n",
       "2                          3/570 \\nMANAGEMENT REPORT\n",
       "3  4/570 \\nReport and accounts 2019Table of conte...\n",
       "4  5/570 To the Shareholders\\nPursuant to the leg...\n",
       "5  6/570 \\nReport and accounts 2019The forest is ...\n",
       "6  7/570 • Wood self-sufficiency: Altri has under...\n",
       "7  8/570 \\nReport and accounts 2019Macroeconomic ...\n",
       "8  9/570 With regard to China, increasing trade t...\n",
       "9  10/570 \\nReport and accounts 2019(Note: PSI 20..."
      ]
     },
     "execution_count": 5,
     "metadata": {},
     "output_type": "execute_result"
    }
   ],
   "source": [
    "import pandas as pd\n",
    "\n",
    "df = pd.DataFrame([d.page_content for d in docs], columns=[\"text\"])\n",
    "df.head(10)"
   ]
  },
  {
   "cell_type": "code",
   "execution_count": 6,
   "metadata": {},
   "outputs": [
    {
     "name": "stdout",
     "output_type": "stream",
     "text": [
      "{'source': '307_Altri_2019.pdf', 'page': 0}\n",
      "{'source': '307_Altri_2019.pdf', 'page': 1}\n",
      "{'source': '307_Altri_2019.pdf', 'page': 2}\n",
      "{'source': '307_Altri_2019.pdf', 'page': 3}\n",
      "{'source': '307_Altri_2019.pdf', 'page': 4}\n"
     ]
    }
   ],
   "source": [
    "for i in range(5): \n",
    "    print(docs[i].metadata)"
   ]
  },
  {
   "cell_type": "code",
   "execution_count": 7,
   "metadata": {},
   "outputs": [],
   "source": [
    "from langchain.text_splitter import RecursiveCharacterTextSplitter"
   ]
  },
  {
   "cell_type": "markdown",
   "metadata": {},
   "source": [
    "### Split"
   ]
  },
  {
   "cell_type": "code",
   "execution_count": 8,
   "metadata": {},
   "outputs": [],
   "source": [
    "from langchain_text_splitters import RecursiveCharacterTextSplitter\n",
    "\n",
    "text_splitter = RecursiveCharacterTextSplitter(\n",
    "    chunk_size=1000, chunk_overlap=20,add_start_index=True\n",
    ")\n",
    "all_splits = text_splitter.split_documents(docs)"
   ]
  },
  {
   "cell_type": "code",
   "execution_count": 9,
   "metadata": {},
   "outputs": [
    {
     "name": "stdout",
     "output_type": "stream",
     "text": [
      "588 vs 1412\n"
     ]
    }
   ],
   "source": [
    "print (f'{len(docs)} vs {len(all_splits)}')"
   ]
  },
  {
   "cell_type": "markdown",
   "metadata": {},
   "source": [
    "### Storing"
   ]
  },
  {
   "cell_type": "code",
   "execution_count": 10,
   "metadata": {},
   "outputs": [],
   "source": [
    "from langchain_chroma import Chroma\n",
    "from langchain_google_genai import GoogleGenerativeAIEmbeddings\n",
    "\n",
    "vectorstore = Chroma.from_documents(documents=all_splits,\n",
    "                                    embedding=GoogleGenerativeAIEmbeddings(model=\"models/embedding-001\"))"
   ]
  },
  {
   "cell_type": "markdown",
   "metadata": {},
   "source": [
    "### Retrieval"
   ]
  },
  {
   "cell_type": "code",
   "execution_count": 11,
   "metadata": {},
   "outputs": [],
   "source": [
    "#retriever = vectorstore.as_retriever(search_type=\"similarity\", search_kwargs={\"k\": 3})\n",
    "retriever = vectorstore.as_retriever(search_type=\"mmr\", search_kwargs={\"k\": 3})"
   ]
  },
  {
   "cell_type": "code",
   "execution_count": 13,
   "metadata": {},
   "outputs": [
    {
     "data": {
      "text/plain": [
       "[Document(page_content='support of a partner skilled in the field - LTM Consultoria, Lda., owner of the brand Comportamentos Seguros\\n®.ALTRI SET THE \\nGOAL “ZERO ACCIDENTS”403-2', metadata={'page': 245, 'source': '307_Altri_2019.pdf', 'start_index': 903}),\n",
       " Document(page_content='installation on some engines.1. Application of control models \\nto engines equipped with speed control; \\n2. Creation of displays with \\nsignposting of the motors with speed control operation optimisation level; \\n3. Establish cleaning routines \\nto clear barriers to the correct functioning of some engines.Without investment: With investment:', metadata={'page': 289, 'source': '307_Altri_2019.pdf', 'start_index': 999}),\n",
       " Document(page_content='is a high level of assurance but  is not a guar antee that an audit conducted in accordance with ISAs will always detect a material \\nmisstatement when it exists. Misstatements can arise from fraud or error and are considered material if, individually or in t he \\naggregate, they could reasonably be expected  to influence the economic decisions of users taken on the basis of these \\nfinancial statements.  \\nAs part of an audit in accordance with ISAs, we exercise professional judgment and maintain professional scepticism \\nthroughout the audit. We also:  \\n► identify and assess the risks of material misstatement of the financial statements, whether due to fraud or error, \\ndesign and perform audit procedures responsive to those risks, and obtain audit evidence that is sufficient and \\nappropriate to provide a basi s for our opinion. The risk of not detecting a material misstatement resulting from fraud', metadata={'page': 575, 'source': '307_Altri_2019.pdf', 'start_index': 2770})]"
      ]
     },
     "execution_count": 13,
     "metadata": {},
     "output_type": "execute_result"
    }
   ],
   "source": [
    "#answer = retriever.invoke(\"What is DriveSure??\")\n",
    "#answer"
   ]
  },
  {
   "cell_type": "markdown",
   "metadata": {},
   "source": [
    "### RAG: Generate"
   ]
  },
  {
   "cell_type": "code",
   "execution_count": 12,
   "metadata": {},
   "outputs": [],
   "source": [
    "from langchain import hub\n",
    "\n",
    "prompt = hub.pull(\"rlm/rag-prompt\")"
   ]
  },
  {
   "cell_type": "code",
   "execution_count": 57,
   "metadata": {},
   "outputs": [],
   "source": [
    "from langchain.prompts import PromptTemplate\n",
    "template = \"\"\"You are an assistant for data collecting tasks. Be skilled in basic mathematics and calculating age. Use the following pieces of retrieved context to answer the question at the end. The main purpose is to extract biographical informations of Board of Directors mentioned in this pdf.  Get the biographical data, different experiences, academic background, career related data of each and every board member. Some other data to extract from the annual report would be whether they mention that the board has an external evaluation in place, number of meetings over the year. Search for date of births or age of members. If you don't know the answer, just say that you don't know. Keep the answer as longthy as possible. Use minimum 15 sentance. Get every details.\n",
    "{context}\n",
    "Question: {question}\n",
    "Helpful Answer:\"\"\"\n",
    "prompt2 = PromptTemplate.from_template(template)\n",
    "#prompt2"
   ]
  },
  {
   "cell_type": "code",
   "execution_count": 16,
   "metadata": {},
   "outputs": [],
   "source": [
    "template3 = \"\"\"You are an assistant for collecting data from the pdf. Make questions from the data and answer them, the main purpose is to create a dataset from the pdf. Create a dataframe as output and store them with a name.\n",
    "{context}\n",
    "Question: {question}\n",
    "Helpful Answer:\"\"\"\n",
    "prompt3 = PromptTemplate.from_template(template3)\n",
    "#prompt3"
   ]
  },
  {
   "cell_type": "code",
   "execution_count": 17,
   "metadata": {},
   "outputs": [],
   "source": [
    "#prompt"
   ]
  },
  {
   "cell_type": "code",
   "execution_count": 58,
   "metadata": {},
   "outputs": [],
   "source": [
    "from langchain_core.output_parsers import StrOutputParser\n",
    "from langchain_core.runnables import RunnablePassthrough\n",
    "\n",
    "\n",
    "def format_docs(docs):\n",
    "    return \"\\n\\n\".join(doc.page_content for doc in docs)\n",
    "\n",
    "\n",
    "rag_chain = (\n",
    "    {\"context\": retriever | format_docs, \"question\": RunnablePassthrough()}\n",
    "    | prompt2\n",
    "    | llm\n",
    "    | StrOutputParser()\n",
    ")"
   ]
  },
  {
   "cell_type": "markdown",
   "metadata": {},
   "source": [
    "#### List of Board Members and Qualification of Each Individual"
   ]
  },
  {
   "cell_type": "code",
   "execution_count": 31,
   "metadata": {},
   "outputs": [
    {
     "name": "stdout",
     "output_type": "stream",
     "text": [
      "1. Paulo Jorge dos Santos Fernandes - President of the Board of Directors and Co-CEO\n",
      "2. João Manuel Matos Borges de Oliveira - Vice-President of the Board of Directors and Co-CEO\n",
      "3. Pedro Miguel Matos Borges de Oliveira - Director\n",
      "4. Manuel Eugénio Pimentel Cavaleiro Brandão - Chairman of the Board of the General Meeting\n",
      "5. Maria Conceição Henriques Fernandes Cabaços - Secretary of the Board of the General Meeting"
     ]
    }
   ],
   "source": [
    "ques = \"Write down the list of all Board Members of the company\"\n",
    "for chunk in rag_chain.stream(ques):\n",
    "    print(chunk, end=\"\", flush=True)"
   ]
  },
  {
   "cell_type": "code",
   "execution_count": 60,
   "metadata": {},
   "outputs": [
    {
     "name": "stdout",
     "output_type": "stream",
     "text": [
      "**Biographical Data:**\n",
      "\n",
      "* Name: Paulo Jorge dos Santos Fernandes\n",
      "\n",
      "**Different Experiences:**\n",
      "\n",
      "* Founder of Cofina, which led to the creation of Altri\n",
      "* CEO of Cofina, S.G.P.S., S.A.\n",
      "* Co-CEO of Altri\n",
      "* Board member of Ramada Investimentos e Indústria, S.A.\n",
      "\n",
      "**Academic Background:**\n",
      "\n",
      "* Degree in Electronic Engineering from Porto University\n",
      "* MBA from the University of Lisbon\n",
      "\n",
      "**Career Related Details:**\n",
      "\n",
      "* Appointed director of Altri since 2005\n",
      "* Shareholder of Altri since 2005\n",
      "* Founder, shareholder, and member of the Board of Directors of Altri\n",
      "* Chairman of Altri\n",
      "* No information provided on date of birth or age"
     ]
    }
   ],
   "source": [
    "name = \"Paulo Jorge dos Santos Fernandes\"\n",
    "ques = \"List down every biographical data, different experiences, academic background, career related details of\" + name\n",
    "for chunk in rag_chain.stream(ques):\n",
    "    print(chunk, end=\"\", flush=True)\n",
    "    \n",
    "#Please change the name according to the requirement"
   ]
  },
  {
   "cell_type": "markdown",
   "metadata": {},
   "source": [
    "## Creating Dataset"
   ]
  },
  {
   "cell_type": "code",
   "execution_count": 47,
   "metadata": {},
   "outputs": [],
   "source": [
    "template4 = \"\"\"You are an assistant for collecting data from the pdf. You wil be analysing annual reports of companies, especially corporate governance. You should be skilled in Maths. Be able to calculate age of people from the pdf if the date of birth is provided. The main purpose is to create a dataset of age of board of directors from the pdf. Make sure your query-response pairs are diverse and are not concentrated on a specific query type, document section or page. Create a dataframe as output and store them with a name.\n",
    "{context}\n",
    "Question: {question}\n",
    "Helpful Answer:\"\"\"\n",
    "prompt4 = PromptTemplate.from_template(template4)\n",
    "#prompt4"
   ]
  },
  {
   "cell_type": "code",
   "execution_count": 54,
   "metadata": {},
   "outputs": [],
   "source": [
    "rag_data = (\n",
    "    {\"context\": retriever | format_docs, \"question\": RunnablePassthrough()}\n",
    "    | prompt3\n",
    "    | llm\n",
    "    | StrOutputParser()\n",
    ")"
   ]
  },
  {
   "cell_type": "code",
   "execution_count": 61,
   "metadata": {},
   "outputs": [
    {
     "name": "stdout",
     "output_type": "stream",
     "text": [
      "| Name | First Appointment | End of Term of Office | Duration |\n",
      "|---|---|---|---|\n",
      "| Paulo Jorge dos Santos Fernandes | March 2005 | 31 December 2019 | 14 years 9 months |\n",
      "| João Manuel Matos Borges de Oliveira | March 2005 | 31 December 2019 | 14 years 9 months |\n",
      "| Domingos José Vieira de Matos | March 2005 | 31 December 2019 | 14 years 9 months |\n",
      "| Laurentina da Silva Martins | March 2009 | 31 December 2019 | 10 years 9 months |\n",
      "| Pedro Miguel Matos Borges de Oliveira | April 2014 | 31 December 2019 | 5 years 8 months |\n",
      "| Ana Rebelo de Carvalho Menéres de Mendonça | April 2014 | 31 December 2019 | 5 years 8 months |\n",
      "| José Manuel de Almeida Archer | September 2015 | 31 December 2019 | 4 years 3 months |"
     ]
    }
   ],
   "source": [
    "question = \"Make the list of Board Members along with their date of appoinment and end term of office. Also calculate the duration by subtracting first appoinment time from End of term of office \"\n",
    "for chunk in rag_data.stream(question):\n",
    "    print(chunk, end=\"\", flush=True)"
   ]
  },
  {
   "cell_type": "code",
   "execution_count": 514,
   "metadata": {},
   "outputs": [],
   "source": [
    "#output_data.to_csv('output.csv')"
   ]
  }
 ],
 "metadata": {
  "kernelspec": {
   "display_name": "Python 3 (ipykernel)",
   "language": "python",
   "name": "python3"
  },
  "language_info": {
   "codemirror_mode": {
    "name": "ipython",
    "version": 3
   },
   "file_extension": ".py",
   "mimetype": "text/x-python",
   "name": "python",
   "nbconvert_exporter": "python",
   "pygments_lexer": "ipython3",
   "version": "3.10.5"
  }
 },
 "nbformat": 4,
 "nbformat_minor": 2
}
